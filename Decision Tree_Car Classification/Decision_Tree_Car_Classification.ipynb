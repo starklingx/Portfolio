{
  "nbformat": 4,
  "nbformat_minor": 0,
  "metadata": {
    "colab": {
      "name": "Decision Tree_Car Classification.ipynb",
      "provenance": []
    },
    "kernelspec": {
      "name": "python3",
      "display_name": "Python 3"
    },
    "language_info": {
      "name": "python"
    }
  },
  "cells": [
    {
      "cell_type": "code",
      "metadata": {
        "colab": {
          "base_uri": "https://localhost:8080/",
          "height": 204
        },
        "id": "fvQhzKqSE_eT",
        "outputId": "dad36b9e-6290-4b49-f1bc-6773a536dfdd"
      },
      "source": [
        "import pandas as pd #membaca data\n",
        "df = pd.read_csv(\"decisiontree.csv\")\n",
        "df.head()"
      ],
      "execution_count": 33,
      "outputs": [
        {
          "output_type": "execute_result",
          "data": {
            "text/html": [
              "<div>\n",
              "<style scoped>\n",
              "    .dataframe tbody tr th:only-of-type {\n",
              "        vertical-align: middle;\n",
              "    }\n",
              "\n",
              "    .dataframe tbody tr th {\n",
              "        vertical-align: top;\n",
              "    }\n",
              "\n",
              "    .dataframe thead th {\n",
              "        text-align: right;\n",
              "    }\n",
              "</style>\n",
              "<table border=\"1\" class=\"dataframe\">\n",
              "  <thead>\n",
              "    <tr style=\"text-align: right;\">\n",
              "      <th></th>\n",
              "      <th>ID</th>\n",
              "      <th>mesin</th>\n",
              "      <th>bangku</th>\n",
              "      <th>penggerak</th>\n",
              "      <th>label</th>\n",
              "    </tr>\n",
              "  </thead>\n",
              "  <tbody>\n",
              "    <tr>\n",
              "      <th>0</th>\n",
              "      <td>1</td>\n",
              "      <td>bensin</td>\n",
              "      <td>4</td>\n",
              "      <td>depan</td>\n",
              "      <td>sedan</td>\n",
              "    </tr>\n",
              "    <tr>\n",
              "      <th>1</th>\n",
              "      <td>2</td>\n",
              "      <td>bensin</td>\n",
              "      <td>2</td>\n",
              "      <td>depan</td>\n",
              "      <td>sedan</td>\n",
              "    </tr>\n",
              "    <tr>\n",
              "      <th>2</th>\n",
              "      <td>3</td>\n",
              "      <td>bensin</td>\n",
              "      <td>8</td>\n",
              "      <td>belakang</td>\n",
              "      <td>minibus</td>\n",
              "    </tr>\n",
              "    <tr>\n",
              "      <th>3</th>\n",
              "      <td>4</td>\n",
              "      <td>diesel</td>\n",
              "      <td>6</td>\n",
              "      <td>depan</td>\n",
              "      <td>minibus</td>\n",
              "    </tr>\n",
              "    <tr>\n",
              "      <th>4</th>\n",
              "      <td>5</td>\n",
              "      <td>bensin</td>\n",
              "      <td>5</td>\n",
              "      <td>belakang</td>\n",
              "      <td>minibus</td>\n",
              "    </tr>\n",
              "  </tbody>\n",
              "</table>\n",
              "</div>"
            ],
            "text/plain": [
              "   ID   mesin  bangku penggerak    label\n",
              "0   1  bensin       4     depan    sedan\n",
              "1   2  bensin       2     depan    sedan\n",
              "2   3  bensin       8  belakang  minibus\n",
              "3   4  diesel       6     depan  minibus\n",
              "4   5  bensin       5  belakang  minibus"
            ]
          },
          "metadata": {
            "tags": []
          },
          "execution_count": 33
        }
      ]
    },
    {
      "cell_type": "code",
      "metadata": {
        "colab": {
          "base_uri": "https://localhost:8080/"
        },
        "id": "UFdAnu3NFK-p",
        "outputId": "be5abb01-08f3-40cb-bc38-d5a534f99868"
      },
      "source": [
        "import sklearn.model_selection as ms #transformasi feature\n",
        "encoding = {\"mesin\" : {\"bensin\" : 0, \"diesel\" : 1}, \"penggerak\" : {\"depan\" : 0, \"belakang\" : 1}}\n",
        "df.replace(encoding, inplace=True)\n",
        "print(df)"
      ],
      "execution_count": 34,
      "outputs": [
        {
          "output_type": "stream",
          "text": [
            "    ID  mesin  bangku  penggerak    label\n",
            "0    1      0       4          0    sedan\n",
            "1    2      0       2          0    sedan\n",
            "2    3      0       8          1  minibus\n",
            "3    4      1       6          0  minibus\n",
            "4    5      0       5          1  minibus\n",
            "5    6      1       8          1  minibus\n",
            "6    7      1       8          1  minibus\n",
            "7    8      0       4          0    sedan\n",
            "8    9      1       7          1  minibus\n",
            "9   10      0       4          0    sedan\n",
            "10  11      0       2          0    sedan\n",
            "11  12      1       6          1  minibus\n",
            "12  13      1       8          0  minibus\n",
            "13  14      0       4          0    sedan\n",
            "14  15      1       2          0    sedan\n",
            "15  16      0       4          0    sedan\n",
            "16  17      0       8          1  minibus\n",
            "17  18      0       4          0    sedan\n",
            "18  19      1       8          1  minibus\n",
            "19  20      1       8          1  minibus\n",
            "20  21      0       4          0    sedan\n",
            "21  22      0       4          0  minibus\n",
            "22  23      1       8          1  minibus\n",
            "23  24      0       4          0    sedan\n",
            "24  25      0       5          1  minibus\n",
            "25  26      0       4          0  minibus\n",
            "26  27      1       8          1  minibus\n",
            "27  28      0       4          0    sedan\n",
            "28  29      0       7          1  minibus\n",
            "29  30      0       4          0    sedan\n",
            "30  31      0       4          0    sedan\n",
            "31  32      0       2          0    sedan\n",
            "32  33      0       8          1  minibus\n",
            "33  34      1       6          0  minibus\n",
            "34  35      0       5          1  minibus\n",
            "35  36      1       8          1  minibus\n",
            "36  37      1       4          1  minibus\n",
            "37  38      0       4          0    sedan\n",
            "38  39      1       5          1  minibus\n",
            "39  40      0       4          0    sedan\n"
          ],
          "name": "stdout"
        }
      ]
    },
    {
      "cell_type": "code",
      "metadata": {
        "id": "UYEqzhyzFZmb"
      },
      "source": [
        "X = df.drop(['ID', 'label'], axis = 1)\n",
        "y = df['label']"
      ],
      "execution_count": 35,
      "outputs": []
    },
    {
      "cell_type": "code",
      "metadata": {
        "id": "IhRNtPoFFkLT"
      },
      "source": [
        "X_train, X_test, y_train, y_test = ms.train_test_split(X, y, test_size = 0.2, random_state = 0) #membagi data training dan data testing"
      ],
      "execution_count": 36,
      "outputs": []
    },
    {
      "cell_type": "code",
      "metadata": {
        "colab": {
          "base_uri": "https://localhost:8080/"
        },
        "id": "X5fSJNNkFerW",
        "outputId": "5785fb99-f136-41fd-c4d3-359770a9bbc1"
      },
      "source": [
        "import sklearn.tree as tree #model dengan kriteria entropy\n",
        "model = tree.DecisionTreeClassifier(criterion = 'entropy', max_depth = 5)\n",
        "model.fit(X_train, y_train)"
      ],
      "execution_count": 37,
      "outputs": [
        {
          "output_type": "execute_result",
          "data": {
            "text/plain": [
              "DecisionTreeClassifier(ccp_alpha=0.0, class_weight=None, criterion='entropy',\n",
              "                       max_depth=5, max_features=None, max_leaf_nodes=None,\n",
              "                       min_impurity_decrease=0.0, min_impurity_split=None,\n",
              "                       min_samples_leaf=1, min_samples_split=2,\n",
              "                       min_weight_fraction_leaf=0.0, presort='deprecated',\n",
              "                       random_state=None, splitter='best')"
            ]
          },
          "metadata": {
            "tags": []
          },
          "execution_count": 37
        }
      ]
    },
    {
      "cell_type": "code",
      "metadata": {
        "colab": {
          "base_uri": "https://localhost:8080/"
        },
        "id": "9zC6lrnxGO3K",
        "outputId": "0dc9be5d-fe0f-4560-f7ac-539594046ac3"
      },
      "source": [
        "y_prediksi = model.predict(X_test)\n",
        "print(y_prediksi)"
      ],
      "execution_count": 38,
      "outputs": [
        {
          "output_type": "stream",
          "text": [
            "['minibus' 'sedan' 'sedan' 'minibus' 'sedan' 'sedan' 'minibus' 'minibus']\n"
          ],
          "name": "stdout"
        }
      ]
    },
    {
      "cell_type": "code",
      "metadata": {
        "colab": {
          "base_uri": "https://localhost:8080/"
        },
        "id": "_7Gm5nwpGXwW",
        "outputId": "a5ca560b-4f39-4eec-a839-0d9af39f9712"
      },
      "source": [
        "import sklearn.metrics as met\n",
        "print(met.accuracy_score(y_test, y_prediksi))"
      ],
      "execution_count": 39,
      "outputs": [
        {
          "output_type": "stream",
          "text": [
            "0.875\n"
          ],
          "name": "stdout"
        }
      ]
    },
    {
      "cell_type": "code",
      "metadata": {
        "colab": {
          "base_uri": "https://localhost:8080/"
        },
        "id": "0aw5h15fGvRc",
        "outputId": "4ac58372-e50b-4db1-efbe-9b044ac75d20"
      },
      "source": [
        "import sklearn.tree as tree #model dengan kriteria gini\n",
        "model1 = tree.DecisionTreeClassifier(criterion = 'gini', max_depth = 5)\n",
        "model1.fit(X_train, y_train)\n",
        "\n",
        "y_prediksi1 = model.predict(X_test)\n",
        "print(y_prediksi1)\n",
        "\n",
        "import sklearn.metrics as met\n",
        "print(met.accuracy_score(y_test, y_prediksi1))"
      ],
      "execution_count": 40,
      "outputs": [
        {
          "output_type": "stream",
          "text": [
            "['minibus' 'sedan' 'sedan' 'minibus' 'sedan' 'sedan' 'minibus' 'minibus']\n",
            "0.875\n"
          ],
          "name": "stdout"
        }
      ]
    },
    {
      "cell_type": "code",
      "metadata": {
        "id": "OJyl43ab87XW",
        "colab": {
          "base_uri": "https://localhost:8080/"
        },
        "outputId": "98ad605a-cc6a-4a8a-d0b1-52468f704e4b"
      },
      "source": [
        "import pydotplus as pp\n",
        "labels = ['mesin', 'bangku', 'penggerak']\n",
        "dot_data = tree.export_graphviz(model, out_file = None, feature_names = labels, filled = True, rounded = True)\n",
        "graph = pp.graph_from_dot_data(dot_data)\n",
        "graph.write_png('decisiontree.png')"
      ],
      "execution_count": 42,
      "outputs": [
        {
          "output_type": "execute_result",
          "data": {
            "text/plain": [
              "True"
            ]
          },
          "metadata": {
            "tags": []
          },
          "execution_count": 42
        }
      ]
    }
  ]
}