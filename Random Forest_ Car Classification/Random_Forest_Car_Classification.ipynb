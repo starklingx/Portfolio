{
  "nbformat": 4,
  "nbformat_minor": 0,
  "metadata": {
    "colab": {
      "name": "Random Forest_Car Classification.ipynb",
      "provenance": []
    },
    "kernelspec": {
      "name": "python3",
      "display_name": "Python 3"
    },
    "language_info": {
      "name": "python"
    }
  },
  "cells": [
    {
      "cell_type": "code",
      "metadata": {
        "colab": {
          "base_uri": "https://localhost:8080/",
          "height": 204
        },
        "id": "vM5e5n3C-38Z",
        "outputId": "13037494-b05d-4c50-842c-3e5c80b8355c"
      },
      "source": [
        "import pandas as pd\n",
        "df = pd.read_csv(\"decisiontree.csv\")\n",
        "df.head()"
      ],
      "execution_count": 13,
      "outputs": [
        {
          "output_type": "execute_result",
          "data": {
            "text/html": [
              "<div>\n",
              "<style scoped>\n",
              "    .dataframe tbody tr th:only-of-type {\n",
              "        vertical-align: middle;\n",
              "    }\n",
              "\n",
              "    .dataframe tbody tr th {\n",
              "        vertical-align: top;\n",
              "    }\n",
              "\n",
              "    .dataframe thead th {\n",
              "        text-align: right;\n",
              "    }\n",
              "</style>\n",
              "<table border=\"1\" class=\"dataframe\">\n",
              "  <thead>\n",
              "    <tr style=\"text-align: right;\">\n",
              "      <th></th>\n",
              "      <th>ID</th>\n",
              "      <th>mesin</th>\n",
              "      <th>bangku</th>\n",
              "      <th>penggerak</th>\n",
              "      <th>label</th>\n",
              "    </tr>\n",
              "  </thead>\n",
              "  <tbody>\n",
              "    <tr>\n",
              "      <th>0</th>\n",
              "      <td>1</td>\n",
              "      <td>bensin</td>\n",
              "      <td>4</td>\n",
              "      <td>depan</td>\n",
              "      <td>sedan</td>\n",
              "    </tr>\n",
              "    <tr>\n",
              "      <th>1</th>\n",
              "      <td>2</td>\n",
              "      <td>bensin</td>\n",
              "      <td>2</td>\n",
              "      <td>depan</td>\n",
              "      <td>sedan</td>\n",
              "    </tr>\n",
              "    <tr>\n",
              "      <th>2</th>\n",
              "      <td>3</td>\n",
              "      <td>bensin</td>\n",
              "      <td>8</td>\n",
              "      <td>belakang</td>\n",
              "      <td>minibus</td>\n",
              "    </tr>\n",
              "    <tr>\n",
              "      <th>3</th>\n",
              "      <td>4</td>\n",
              "      <td>diesel</td>\n",
              "      <td>6</td>\n",
              "      <td>depan</td>\n",
              "      <td>minibus</td>\n",
              "    </tr>\n",
              "    <tr>\n",
              "      <th>4</th>\n",
              "      <td>5</td>\n",
              "      <td>bensin</td>\n",
              "      <td>5</td>\n",
              "      <td>belakang</td>\n",
              "      <td>minibus</td>\n",
              "    </tr>\n",
              "  </tbody>\n",
              "</table>\n",
              "</div>"
            ],
            "text/plain": [
              "   ID   mesin  bangku penggerak    label\n",
              "0   1  bensin       4     depan    sedan\n",
              "1   2  bensin       2     depan    sedan\n",
              "2   3  bensin       8  belakang  minibus\n",
              "3   4  diesel       6     depan  minibus\n",
              "4   5  bensin       5  belakang  minibus"
            ]
          },
          "metadata": {
            "tags": []
          },
          "execution_count": 13
        }
      ]
    },
    {
      "cell_type": "code",
      "metadata": {
        "id": "9JUg6L5a_dZ0"
      },
      "source": [
        "import sklearn.ensemble as ens\n",
        "rf = ens.RandomForestClassifier(n_estimators=100)"
      ],
      "execution_count": 14,
      "outputs": []
    },
    {
      "cell_type": "code",
      "metadata": {
        "colab": {
          "base_uri": "https://localhost:8080/"
        },
        "id": "i1p8Ee6j_eEa",
        "outputId": "0fef5df9-1ed3-48ab-edc6-59515bd7f870"
      },
      "source": [
        "import sklearn.model_selection as ms\n",
        "encoding = {\"mesin\" : {\"bensin\" : 0, \"diesel\" : 1}, \"penggerak\" : {\"depan\" : 0, \"belakang\" : 1}}\n",
        "df.replace(encoding, inplace=True)\n",
        "print(df)"
      ],
      "execution_count": 15,
      "outputs": [
        {
          "output_type": "stream",
          "text": [
            "    ID  mesin  bangku  penggerak    label\n",
            "0    1      0       4          0    sedan\n",
            "1    2      0       2          0    sedan\n",
            "2    3      0       8          1  minibus\n",
            "3    4      1       6          0  minibus\n",
            "4    5      0       5          1  minibus\n",
            "5    6      1       8          1  minibus\n",
            "6    7      1       8          1  minibus\n",
            "7    8      0       4          0    sedan\n",
            "8    9      1       7          1  minibus\n",
            "9   10      0       4          0    sedan\n",
            "10  11      0       2          0    sedan\n",
            "11  12      1       6          1  minibus\n",
            "12  13      1       8          0  minibus\n",
            "13  14      0       4          0    sedan\n",
            "14  15      1       2          0    sedan\n",
            "15  16      0       4          0    sedan\n",
            "16  17      0       8          1  minibus\n",
            "17  18      0       4          0    sedan\n",
            "18  19      1       8          1  minibus\n",
            "19  20      1       8          1  minibus\n",
            "20  21      0       4          0    sedan\n",
            "21  22      0       4          0  minibus\n",
            "22  23      1       8          1  minibus\n",
            "23  24      0       4          0    sedan\n",
            "24  25      0       5          1  minibus\n",
            "25  26      0       4          0  minibus\n",
            "26  27      1       8          1  minibus\n",
            "27  28      0       4          0    sedan\n",
            "28  29      0       7          1  minibus\n",
            "29  30      0       4          0    sedan\n",
            "30  31      0       4          0    sedan\n",
            "31  32      0       2          0    sedan\n",
            "32  33      0       8          1  minibus\n",
            "33  34      1       6          0  minibus\n",
            "34  35      0       5          1  minibus\n",
            "35  36      1       8          1  minibus\n",
            "36  37      1       4          1  minibus\n",
            "37  38      0       4          0    sedan\n",
            "38  39      1       5          1  minibus\n",
            "39  40      0       4          0    sedan\n"
          ],
          "name": "stdout"
        }
      ]
    },
    {
      "cell_type": "code",
      "metadata": {
        "id": "OPEbS2M9Auvg"
      },
      "source": [
        "X = df.drop(['ID', 'label'], axis = 1)\n",
        "y = df['label']"
      ],
      "execution_count": 16,
      "outputs": []
    },
    {
      "cell_type": "code",
      "metadata": {
        "id": "K61hPOmpBGTS"
      },
      "source": [
        "X_train, X_test, y_train, y_test = ms.train_test_split(X, y, test_size = 0.2) #membagi data training dan data testing"
      ],
      "execution_count": 17,
      "outputs": []
    },
    {
      "cell_type": "code",
      "metadata": {
        "colab": {
          "base_uri": "https://localhost:8080/"
        },
        "id": "nDhjnHrIBPyk",
        "outputId": "81b093b5-c079-4cf1-e3a8-db799dc6e5c2"
      },
      "source": [
        "rf.fit(X_train, y_train)"
      ],
      "execution_count": 18,
      "outputs": [
        {
          "output_type": "execute_result",
          "data": {
            "text/plain": [
              "RandomForestClassifier(bootstrap=True, ccp_alpha=0.0, class_weight=None,\n",
              "                       criterion='gini', max_depth=None, max_features='auto',\n",
              "                       max_leaf_nodes=None, max_samples=None,\n",
              "                       min_impurity_decrease=0.0, min_impurity_split=None,\n",
              "                       min_samples_leaf=1, min_samples_split=2,\n",
              "                       min_weight_fraction_leaf=0.0, n_estimators=100,\n",
              "                       n_jobs=None, oob_score=False, random_state=None,\n",
              "                       verbose=0, warm_start=False)"
            ]
          },
          "metadata": {
            "tags": []
          },
          "execution_count": 18
        }
      ]
    },
    {
      "cell_type": "code",
      "metadata": {
        "id": "1UVPCZupBdtZ"
      },
      "source": [
        "y_prediksi = rf.predict(X_test)"
      ],
      "execution_count": 19,
      "outputs": []
    },
    {
      "cell_type": "code",
      "metadata": {
        "colab": {
          "base_uri": "https://localhost:8080/"
        },
        "id": "fytswDkEBl__",
        "outputId": "3fbed27a-d34d-49ff-dc36-df90e41d3061"
      },
      "source": [
        "import sklearn.metrics as met\n",
        "akurasi = met.accuracy_score(y_test, y_prediksi)\n",
        "print(akurasi)"
      ],
      "execution_count": 20,
      "outputs": [
        {
          "output_type": "stream",
          "text": [
            "1.0\n"
          ],
          "name": "stdout"
        }
      ]
    },
    {
      "cell_type": "code",
      "metadata": {
        "colab": {
          "base_uri": "https://localhost:8080/"
        },
        "id": "POJBWjh6CBZ1",
        "outputId": "63631e95-805d-4540-87bf-cfead39546e6"
      },
      "source": [
        "score = rf.feature_importances_\n",
        "print(score)"
      ],
      "execution_count": 21,
      "outputs": [
        {
          "output_type": "stream",
          "text": [
            "[0.19002262 0.51964296 0.29033442]\n"
          ],
          "name": "stdout"
        }
      ]
    }
  ]
}