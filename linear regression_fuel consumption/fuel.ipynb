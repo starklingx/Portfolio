{
  "nbformat": 4,
  "nbformat_minor": 0,
  "metadata": {
    "colab": {
      "name": "fuel.ipynb",
      "provenance": []
    },
    "kernelspec": {
      "name": "python3",
      "display_name": "Python 3"
    },
    "language_info": {
      "name": "python"
    }
  },
  "cells": [
    {
      "cell_type": "code",
      "metadata": {
        "colab": {
          "base_uri": "https://localhost:8080/",
          "height": 419
        },
        "id": "FgPvhbTg36b0",
        "outputId": "785b6463-ce72-44fd-ef43-01cb665716a7"
      },
      "source": [
        "import pandas as pd\n",
        "\n",
        "df1 = pd.read_csv('bensin.csv') #read data\n",
        "df1"
      ],
      "execution_count": 89,
      "outputs": [
        {
          "output_type": "execute_result",
          "data": {
            "text/html": [
              "<div>\n",
              "<style scoped>\n",
              "    .dataframe tbody tr th:only-of-type {\n",
              "        vertical-align: middle;\n",
              "    }\n",
              "\n",
              "    .dataframe tbody tr th {\n",
              "        vertical-align: top;\n",
              "    }\n",
              "\n",
              "    .dataframe thead th {\n",
              "        text-align: right;\n",
              "    }\n",
              "</style>\n",
              "<table border=\"1\" class=\"dataframe\">\n",
              "  <thead>\n",
              "    <tr style=\"text-align: right;\">\n",
              "      <th></th>\n",
              "      <th>Liter</th>\n",
              "      <th>Kilometer</th>\n",
              "    </tr>\n",
              "  </thead>\n",
              "  <tbody>\n",
              "    <tr>\n",
              "      <th>0</th>\n",
              "      <td>20</td>\n",
              "      <td>142.0</td>\n",
              "    </tr>\n",
              "    <tr>\n",
              "      <th>1</th>\n",
              "      <td>25</td>\n",
              "      <td>177.0</td>\n",
              "    </tr>\n",
              "    <tr>\n",
              "      <th>2</th>\n",
              "      <td>20</td>\n",
              "      <td>144.0</td>\n",
              "    </tr>\n",
              "    <tr>\n",
              "      <th>3</th>\n",
              "      <td>30</td>\n",
              "      <td>203.0</td>\n",
              "    </tr>\n",
              "    <tr>\n",
              "      <th>4</th>\n",
              "      <td>40</td>\n",
              "      <td>273.0</td>\n",
              "    </tr>\n",
              "    <tr>\n",
              "      <th>...</th>\n",
              "      <td>...</td>\n",
              "      <td>...</td>\n",
              "    </tr>\n",
              "    <tr>\n",
              "      <th>60</th>\n",
              "      <td>31</td>\n",
              "      <td>203.0</td>\n",
              "    </tr>\n",
              "    <tr>\n",
              "      <th>61</th>\n",
              "      <td>37</td>\n",
              "      <td>241.0</td>\n",
              "    </tr>\n",
              "    <tr>\n",
              "      <th>62</th>\n",
              "      <td>23</td>\n",
              "      <td>142.0</td>\n",
              "    </tr>\n",
              "    <tr>\n",
              "      <th>63</th>\n",
              "      <td>36</td>\n",
              "      <td>241.0</td>\n",
              "    </tr>\n",
              "    <tr>\n",
              "      <th>64</th>\n",
              "      <td>23</td>\n",
              "      <td>142.0</td>\n",
              "    </tr>\n",
              "  </tbody>\n",
              "</table>\n",
              "<p>65 rows × 2 columns</p>\n",
              "</div>"
            ],
            "text/plain": [
              "    Liter  Kilometer\n",
              "0      20      142.0\n",
              "1      25      177.0\n",
              "2      20      144.0\n",
              "3      30      203.0\n",
              "4      40      273.0\n",
              "..    ...        ...\n",
              "60     31      203.0\n",
              "61     37      241.0\n",
              "62     23      142.0\n",
              "63     36      241.0\n",
              "64     23      142.0\n",
              "\n",
              "[65 rows x 2 columns]"
            ]
          },
          "metadata": {
            "tags": []
          },
          "execution_count": 89
        }
      ]
    },
    {
      "cell_type": "code",
      "metadata": {
        "colab": {
          "base_uri": "https://localhost:8080/",
          "height": 297
        },
        "id": "IayuXNHY4eeg",
        "outputId": "33e8eac7-f030-4b05-ff6d-e48648ac2c9a"
      },
      "source": [
        "df1.describe() #descriptive statistics"
      ],
      "execution_count": 90,
      "outputs": [
        {
          "output_type": "execute_result",
          "data": {
            "text/html": [
              "<div>\n",
              "<style scoped>\n",
              "    .dataframe tbody tr th:only-of-type {\n",
              "        vertical-align: middle;\n",
              "    }\n",
              "\n",
              "    .dataframe tbody tr th {\n",
              "        vertical-align: top;\n",
              "    }\n",
              "\n",
              "    .dataframe thead th {\n",
              "        text-align: right;\n",
              "    }\n",
              "</style>\n",
              "<table border=\"1\" class=\"dataframe\">\n",
              "  <thead>\n",
              "    <tr style=\"text-align: right;\">\n",
              "      <th></th>\n",
              "      <th>Liter</th>\n",
              "      <th>Kilometer</th>\n",
              "    </tr>\n",
              "  </thead>\n",
              "  <tbody>\n",
              "    <tr>\n",
              "      <th>count</th>\n",
              "      <td>65.000000</td>\n",
              "      <td>65.000000</td>\n",
              "    </tr>\n",
              "    <tr>\n",
              "      <th>mean</th>\n",
              "      <td>26.446154</td>\n",
              "      <td>181.064615</td>\n",
              "    </tr>\n",
              "    <tr>\n",
              "      <th>std</th>\n",
              "      <td>7.424686</td>\n",
              "      <td>49.741763</td>\n",
              "    </tr>\n",
              "    <tr>\n",
              "      <th>min</th>\n",
              "      <td>6.000000</td>\n",
              "      <td>32.000000</td>\n",
              "    </tr>\n",
              "    <tr>\n",
              "      <th>25%</th>\n",
              "      <td>23.000000</td>\n",
              "      <td>144.000000</td>\n",
              "    </tr>\n",
              "    <tr>\n",
              "      <th>50%</th>\n",
              "      <td>25.000000</td>\n",
              "      <td>177.000000</td>\n",
              "    </tr>\n",
              "    <tr>\n",
              "      <th>75%</th>\n",
              "      <td>30.000000</td>\n",
              "      <td>212.000000</td>\n",
              "    </tr>\n",
              "    <tr>\n",
              "      <th>max</th>\n",
              "      <td>45.000000</td>\n",
              "      <td>278.000000</td>\n",
              "    </tr>\n",
              "  </tbody>\n",
              "</table>\n",
              "</div>"
            ],
            "text/plain": [
              "           Liter   Kilometer\n",
              "count  65.000000   65.000000\n",
              "mean   26.446154  181.064615\n",
              "std     7.424686   49.741763\n",
              "min     6.000000   32.000000\n",
              "25%    23.000000  144.000000\n",
              "50%    25.000000  177.000000\n",
              "75%    30.000000  212.000000\n",
              "max    45.000000  278.000000"
            ]
          },
          "metadata": {
            "tags": []
          },
          "execution_count": 90
        }
      ]
    },
    {
      "cell_type": "code",
      "metadata": {
        "colab": {
          "base_uri": "https://localhost:8080/"
        },
        "id": "L4Ds-g8B5Q1-",
        "outputId": "8df96937-d817-4fa9-816e-6cc6531690e6"
      },
      "source": [
        "#separate training data and testing data\n",
        "import numpy as np\n",
        "import sklearn.model_selection as ms\n",
        "\n",
        "liter = df1[['Liter']]\n",
        "kilometer = df1[['Kilometer']]\n",
        "\n",
        "#using the proportion of 80:20 for training data and testing data\n",
        "X_train, X_test, y_train, y_test = ms.train_test_split(liter, kilometer, test_size = 0.2, random_state = 0)\n",
        "print(X_train.size, X_test.size)"
      ],
      "execution_count": 91,
      "outputs": [
        {
          "output_type": "stream",
          "text": [
            "52 13\n"
          ],
          "name": "stdout"
        }
      ]
    },
    {
      "cell_type": "code",
      "metadata": {
        "colab": {
          "base_uri": "https://localhost:8080/",
          "height": 295
        },
        "id": "gdiAzJAW_uOp",
        "outputId": "e7df818b-7001-4c2f-8b05-668f5d21addb"
      },
      "source": [
        "#visualisation\n",
        "import matplotlib.pyplot as plt\n",
        "plt.scatter(X_train, y_train, edgecolors='r')\n",
        "plt.xlabel('Liter')\n",
        "plt.ylabel('Kilometer')\n",
        "plt.title('Fuel Consumption')\n",
        "plt.show()\n",
        "\n",
        "#The scatter plot results show a strong positive correlation"
      ],
      "execution_count": 92,
      "outputs": [
        {
          "output_type": "display_data",
          "data": {
            "image/png": "[encoded data removed]",
            "text/plain": [
              "<Figure size 432x288 with 1 Axes>"
            ]
          },
          "metadata": {
            "tags": [],
            "needs_background": "light"
          }
        }
      ]
    },
    {
      "cell_type": "code",
      "metadata": {
        "colab": {
          "base_uri": "https://localhost:8080/",
          "height": 295
        },
        "id": "nBi9Gh3aDECB",
        "outputId": "c3596b36-c42f-4deb-b52d-5b4d16db1a73"
      },
      "source": [
        "import matplotlib.pyplot as plt\n",
        "plt.scatter(X_train, y_train, edgecolors='r')\n",
        "plt.xlabel('Liter')\n",
        "plt.ylabel('Kilometer')\n",
        "plt.title('Fuel Consumption')\n",
        "x1 = np.linspace(0,45) #max=45\n",
        "y1 = 4 + 7 * x1\n",
        "plt.plot(x1, y1)\n",
        "plt.show()\n",
        "\n",
        "#visualization with a regression line"
      ],
      "execution_count": 93,
      "outputs": [
        {
          "output_type": "display_data",
          "data": {
            "image/png": "[encoded data removed]",
            "text/plain": [
              "<Figure size 432x288 with 1 Axes>"
            ]
          },
          "metadata": {
            "tags": [],
            "needs_background": "light"
          }
        }
      ]
    },
    {
      "cell_type": "code",
      "metadata": {
        "colab": {
          "base_uri": "https://localhost:8080/"
        },
        "id": "AM4DgVFKFpJd",
        "outputId": "6aadaf62-e515-4a82-d70a-cfdf4199a7b2"
      },
      "source": [
        "import sklearn.linear_model as lm #regression model\n",
        "model1 = lm.LinearRegression()\n",
        "model1.fit(X_train, y_train)"
      ],
      "execution_count": 94,
      "outputs": [
        {
          "output_type": "execute_result",
          "data": {
            "text/plain": [
              "LinearRegression(copy_X=True, fit_intercept=True, n_jobs=None, normalize=False)"
            ]
          },
          "metadata": {
            "tags": []
          },
          "execution_count": 94
        }
      ]
    },
    {
      "cell_type": "code",
      "metadata": {
        "colab": {
          "base_uri": "https://localhost:8080/"
        },
        "id": "xaULupZxGH4p",
        "outputId": "5bac0a77-530d-41b1-e0f4-6a02fdcc3484"
      },
      "source": [
        "model1.coef_ #slope/gradient/m/b"
      ],
      "execution_count": 95,
      "outputs": [
        {
          "output_type": "execute_result",
          "data": {
            "text/plain": [
              "array([[6.45829591]])"
            ]
          },
          "metadata": {
            "tags": []
          },
          "execution_count": 95
        }
      ]
    },
    {
      "cell_type": "code",
      "metadata": {
        "colab": {
          "base_uri": "https://localhost:8080/"
        },
        "id": "dmT8AfC6GYQM",
        "outputId": "a2fe843b-fec9-4d5d-f619-efc1e9bdf665"
      },
      "source": [
        "model1.intercept_ #intercept/a"
      ],
      "execution_count": 96,
      "outputs": [
        {
          "output_type": "execute_result",
          "data": {
            "text/plain": [
              "array([10.64122249])"
            ]
          },
          "metadata": {
            "tags": []
          },
          "execution_count": 96
        }
      ]
    },
    {
      "cell_type": "code",
      "metadata": {
        "colab": {
          "base_uri": "https://localhost:8080/",
          "height": 295
        },
        "id": "Rrmw-D3-GnyS",
        "outputId": "6bdec083-a190-4ff7-c19a-5ae41510e282"
      },
      "source": [
        "import matplotlib.pyplot as plt\n",
        "plt.scatter(X_train, y_train, edgecolors='r')\n",
        "plt.xlabel('Liter')\n",
        "plt.ylabel('Kilometer')\n",
        "plt.title('Fuel Consumption')\n",
        "x1 = np.linspace(0,45)\n",
        "y1 = 10.64 + 6.46 * x1\n",
        "plt.plot(x1, y1)\n",
        "plt.show()\n",
        "\n",
        "#visualization based on a regression model"
      ],
      "execution_count": 97,
      "outputs": [
        {
          "output_type": "display_data",
          "data": {
            "image/png": "[encoded data removed]",
            "text/plain": [
              "<Figure size 432x288 with 1 Axes>"
            ]
          },
          "metadata": {
            "tags": [],
            "needs_background": "light"
          }
        }
      ]
    },
    {
      "cell_type": "code",
      "metadata": {
        "colab": {
          "base_uri": "https://localhost:8080/"
        },
        "id": "mwDxB6CXH19E",
        "outputId": "323f588a-6cf2-46d7-ca42-78d432c68560"
      },
      "source": [
        "r2 = model1.score(X_test, y_test) #r-sq (the closer to 1, the better the model predicts)\n",
        "r2"
      ],
      "execution_count": 98,
      "outputs": [
        {
          "output_type": "execute_result",
          "data": {
            "text/plain": [
              "0.9798523775622333"
            ]
          },
          "metadata": {
            "tags": []
          },
          "execution_count": 98
        }
      ]
    },
    {
      "cell_type": "code",
      "metadata": {
        "colab": {
          "base_uri": "https://localhost:8080/"
        },
        "id": "h3udIfyGJLZm",
        "outputId": "0b7d52da-6ada-417e-f3bd-5e5f88e0b5cc"
      },
      "source": [
        "#new value prediction\n",
        "jarak = model1.predict([[60]])\n",
        "print(jarak)"
      ],
      "execution_count": 99,
      "outputs": [
        {
          "output_type": "stream",
          "text": [
            "[[398.13897723]]\n"
          ],
          "name": "stdout"
        }
      ]
    },
    {
      "cell_type": "code",
      "metadata": {
        "colab": {
          "base_uri": "https://localhost:8080/"
        },
        "id": "_TeEozZtJkJe",
        "outputId": "9d6d7584-5f18-401f-bb98-5b7cdb209931"
      },
      "source": [
        "prediksi = model1.predict(X_test)\n",
        "print(prediksi)"
      ],
      "execution_count": 100,
      "outputs": [
        {
          "output_type": "stream",
          "text": [
            "[[107.51566118]\n",
            " [172.0986203 ]\n",
            " [172.0986203 ]\n",
            " [159.18202848]\n",
            " [139.80714074]\n",
            " [268.97305898]\n",
            " [204.39009986]\n",
            " [236.68157942]\n",
            " [ 75.22418162]\n",
            " [243.13987534]\n",
            " [172.0986203 ]\n",
            " [139.80714074]\n",
            " [191.47350804]]\n"
          ],
          "name": "stdout"
        }
      ]
    },
    {
      "cell_type": "code",
      "metadata": {
        "colab": {
          "base_uri": "https://localhost:8080/"
        },
        "id": "1xdQd39bJ9wc",
        "outputId": "dc3ecd62-a091-4487-d8d0-4987ad0c30fd"
      },
      "source": [
        "print(y_test)"
      ],
      "execution_count": 101,
      "outputs": [
        {
          "output_type": "stream",
          "text": [
            "    Kilometer\n",
            "45      102.0\n",
            "29      167.0\n",
            "43      177.0\n",
            "62      142.0\n",
            "34      144.0\n",
            "33      278.0\n",
            "31      211.0\n",
            "40      241.0\n",
            "26       65.0\n",
            "63      241.0\n",
            "22      166.2\n",
            "2       144.0\n",
            "11      180.0\n"
          ],
          "name": "stdout"
        }
      ]
    }
  ]
}